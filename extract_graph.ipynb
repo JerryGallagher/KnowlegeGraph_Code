{
 "cells": [
  {
   "cell_type": "markdown",
   "metadata": {},
   "source": [
    "## Setup"
   ]
  },
  {
   "cell_type": "code",
   "execution_count": 3,
   "metadata": {},
   "outputs": [],
   "source": [
    "import pandas as pd\n",
    "import numpy as np\n",
    "import os\n",
    "from langchain.document_loaders import PyPDFLoader, UnstructuredPDFLoader, PyPDFium2Loader\n",
    "from langchain.document_loaders import PyPDFDirectoryLoader, DirectoryLoader\n",
    "from langchain.text_splitter import RecursiveCharacterTextSplitter\n",
    "from pathlib import Path\n",
    "import random\n",
    "\n",
    "## Input data directory\n",
    "data_dir = \"petclinic\"\n",
    "inputdirectory = Path(f\"./data_input/{data_dir}\")\n",
    "## This is where the output csv files will be written\n",
    "out_dir = data_dir\n",
    "outputdirectory = Path(f\"./data_output/{out_dir}\")"
   ]
  },
  {
   "cell_type": "markdown",
   "metadata": {},
   "source": [
    "## Load Documents"
   ]
  },
  {
   "cell_type": "code",
   "execution_count": 4,
   "metadata": {},
   "outputs": [
    {
     "name": "stderr",
     "output_type": "stream",
     "text": [
      "100%|█████████████████████████████████████████████████████████████████████████████████████████████████| 1/1 [00:05<00:00,  5.72s/it]"
     ]
    },
    {
     "name": "stdout",
     "output_type": "stream",
     "text": [
      "Number of chunks =  432\n"
     ]
    },
    {
     "name": "stderr",
     "output_type": "stream",
     "text": [
      "\n"
     ]
    }
   ],
   "source": [
    "## Dir PDF Loader\n",
    "# loader = PyPDFDirectoryLoader(inputdirectory)\n",
    "## File Loader\n",
    "# loader = PyPDFLoader(\"./data/MedicalDocuments/orf-path_health-n1.pdf\")\n",
    "loader = DirectoryLoader(inputdirectory, show_progress=True)\n",
    "documents = loader.load()\n",
    "\n",
    "splitter = RecursiveCharacterTextSplitter(\n",
    "    chunk_size=1500,\n",
    "    chunk_overlap=150,\n",
    "    length_function=len,\n",
    "    is_separator_regex=False,\n",
    ")\n",
    "\n",
    "pages = splitter.split_documents(documents)\n",
    "print(\"Number of chunks = \", len(pages))\n"
   ]
  },
  {
   "cell_type": "markdown",
   "metadata": {},
   "source": [
    "## Create a dataframe of all the chunks"
   ]
  },
  {
   "cell_type": "code",
   "execution_count": 3,
   "metadata": {},
   "outputs": [
    {
     "name": "stdout",
     "output_type": "stream",
     "text": [
      "(64, 3)\n"
     ]
    },
    {
     "data": {
      "text/html": [
       "<div>\n",
       "<style scoped>\n",
       "    .dataframe tbody tr th:only-of-type {\n",
       "        vertical-align: middle;\n",
       "    }\n",
       "\n",
       "    .dataframe tbody tr th {\n",
       "        vertical-align: top;\n",
       "    }\n",
       "\n",
       "    .dataframe thead th {\n",
       "        text-align: right;\n",
       "    }\n",
       "</style>\n",
       "<table border=\"1\" class=\"dataframe\">\n",
       "  <thead>\n",
       "    <tr style=\"text-align: right;\">\n",
       "      <th></th>\n",
       "      <th>text</th>\n",
       "      <th>source</th>\n",
       "      <th>chunk_id</th>\n",
       "    </tr>\n",
       "  </thead>\n",
       "  <tbody>\n",
       "    <tr>\n",
       "      <th>0</th>\n",
       "      <td>Found 48 source code files: ../blog/springblog...</td>\n",
       "      <td>data_input/springblog/springblog.txt</td>\n",
       "      <td>9280403b73124364a9a51ec0ea88c95a</td>\n",
       "    </tr>\n",
       "    <tr>\n",
       "      <th>1</th>\n",
       "      <td>\";this.currentPage=1,this.lastPage=1,this.setO...</td>\n",
       "      <td>data_input/springblog/springblog.txt</td>\n",
       "      <td>d206530d2f04474ab5da631313c16068</td>\n",
       "    </tr>\n",
       "    <tr>\n",
       "      <th>2</th>\n",
       "      <td>pages=this.getPages();pages.first&amp;&amp;this.show(p...</td>\n",
       "      <td>data_input/springblog/springblog.txt</td>\n",
       "      <td>16ab83f8a56e4e4e817c30768392d9ee</td>\n",
       "    </tr>\n",
       "    <tr>\n",
       "      <th>3</th>\n",
       "      <td>class='pagination'&gt;&lt;/ul&gt;\"):this.$element,listC...</td>\n",
       "      <td>data_input/springblog/springblog.txt</td>\n",
       "      <td>5f12d324dda0462cbec1e1e8b96daf16</td>\n",
       "    </tr>\n",
       "    <tr>\n",
       "      <th>4</th>\n",
       "      <td>itemContainer=$(\"&lt;li&gt;&lt;/li&gt;\"),itemContent=$(\"&lt;a...</td>\n",
       "      <td>data_input/springblog/springblog.txt</td>\n",
       "      <td>8e6e3f6024c44e2e94d352316c4b6fe3</td>\n",
       "    </tr>\n",
       "  </tbody>\n",
       "</table>\n",
       "</div>"
      ],
      "text/plain": [
       "                                                text  \\\n",
       "0  Found 48 source code files: ../blog/springblog...   \n",
       "1  \";this.currentPage=1,this.lastPage=1,this.setO...   \n",
       "2  pages=this.getPages();pages.first&&this.show(p...   \n",
       "3  class='pagination'></ul>\"):this.$element,listC...   \n",
       "4  itemContainer=$(\"<li></li>\"),itemContent=$(\"<a...   \n",
       "\n",
       "                                 source                          chunk_id  \n",
       "0  data_input/springblog/springblog.txt  9280403b73124364a9a51ec0ea88c95a  \n",
       "1  data_input/springblog/springblog.txt  d206530d2f04474ab5da631313c16068  \n",
       "2  data_input/springblog/springblog.txt  16ab83f8a56e4e4e817c30768392d9ee  \n",
       "3  data_input/springblog/springblog.txt  5f12d324dda0462cbec1e1e8b96daf16  \n",
       "4  data_input/springblog/springblog.txt  8e6e3f6024c44e2e94d352316c4b6fe3  "
      ]
     },
     "execution_count": 3,
     "metadata": {},
     "output_type": "execute_result"
    }
   ],
   "source": [
    "from helpers.df_helpers import documents2Dataframe\n",
    "df = documents2Dataframe(pages)\n",
    "print(df.shape)\n",
    "df.head()"
   ]
  },
  {
   "cell_type": "markdown",
   "metadata": {},
   "source": [
    "## Extract Concepts"
   ]
  },
  {
   "cell_type": "code",
   "execution_count": 5,
   "metadata": {},
   "outputs": [],
   "source": [
    "## This function uses the helpers/prompt function to extract concepts from text\n",
    "from helpers.df_helpers import df2Graph\n",
    "from helpers.df_helpers import graph2Df"
   ]
  },
  {
   "cell_type": "markdown",
   "metadata": {},
   "source": [
    "If regenerate is set to True then the dataframes are regenerated and Both the dataframes are written in the csv format so we dont have to calculate them again. \n",
    "\n",
    "        dfne = dataframe of edges\n",
    "\n",
    "        df = dataframe of chunks\n",
    "\n",
    "\n",
    "Else the dataframes are read from the output directory"
   ]
  },
  {
   "cell_type": "code",
   "execution_count": 6,
   "metadata": {},
   "outputs": [
    {
     "name": "stdout",
     "output_type": "stream",
     "text": [
      "(160, 5)\n"
     ]
    },
    {
     "data": {
      "text/html": [
       "<div>\n",
       "<style scoped>\n",
       "    .dataframe tbody tr th:only-of-type {\n",
       "        vertical-align: middle;\n",
       "    }\n",
       "\n",
       "    .dataframe tbody tr th {\n",
       "        vertical-align: top;\n",
       "    }\n",
       "\n",
       "    .dataframe thead th {\n",
       "        text-align: right;\n",
       "    }\n",
       "</style>\n",
       "<table border=\"1\" class=\"dataframe\">\n",
       "  <thead>\n",
       "    <tr style=\"text-align: right;\">\n",
       "      <th></th>\n",
       "      <th>node_1</th>\n",
       "      <th>node_2</th>\n",
       "      <th>edge</th>\n",
       "      <th>chunk_id</th>\n",
       "      <th>count</th>\n",
       "    </tr>\n",
       "  </thead>\n",
       "  <tbody>\n",
       "    <tr>\n",
       "      <th>0</th>\n",
       "      <td>petclinic</td>\n",
       "      <td>src</td>\n",
       "      <td>is a directory</td>\n",
       "      <td>06ee23aea9a34b1e973821ef973d1d89</td>\n",
       "      <td>4</td>\n",
       "    </tr>\n",
       "    <tr>\n",
       "      <th>1</th>\n",
       "      <td>petclinic</td>\n",
       "      <td>main</td>\n",
       "      <td>is a directory</td>\n",
       "      <td>06ee23aea9a34b1e973821ef973d1d89</td>\n",
       "      <td>4</td>\n",
       "    </tr>\n",
       "    <tr>\n",
       "      <th>2</th>\n",
       "      <td>src</td>\n",
       "      <td>java</td>\n",
       "      <td>is a directory</td>\n",
       "      <td>06ee23aea9a34b1e973821ef973d1d89</td>\n",
       "      <td>4</td>\n",
       "    </tr>\n",
       "    <tr>\n",
       "      <th>3</th>\n",
       "      <td>org</td>\n",
       "      <td>springframework</td>\n",
       "      <td>belongs to the package</td>\n",
       "      <td>06ee23aea9a34b1e973821ef973d1d89</td>\n",
       "      <td>4</td>\n",
       "    </tr>\n",
       "    <tr>\n",
       "      <th>4</th>\n",
       "      <td>spring</td>\n",
       "      <td>samples</td>\n",
       "      <td>belongs to the package</td>\n",
       "      <td>06ee23aea9a34b1e973821ef973d1d89</td>\n",
       "      <td>4</td>\n",
       "    </tr>\n",
       "  </tbody>\n",
       "</table>\n",
       "</div>"
      ],
      "text/plain": [
       "      node_1           node_2                    edge  \\\n",
       "0  petclinic              src          is a directory   \n",
       "1  petclinic             main          is a directory   \n",
       "2        src             java          is a directory   \n",
       "3        org  springframework  belongs to the package   \n",
       "4     spring          samples  belongs to the package   \n",
       "\n",
       "                           chunk_id  count  \n",
       "0  06ee23aea9a34b1e973821ef973d1d89      4  \n",
       "1  06ee23aea9a34b1e973821ef973d1d89      4  \n",
       "2  06ee23aea9a34b1e973821ef973d1d89      4  \n",
       "3  06ee23aea9a34b1e973821ef973d1d89      4  \n",
       "4  06ee23aea9a34b1e973821ef973d1d89      4  "
      ]
     },
     "execution_count": 6,
     "metadata": {},
     "output_type": "execute_result"
    }
   ],
   "source": [
    "## To regenerate the graph with LLM, set this to True\n",
    "regenerate = False\n",
    "\n",
    "if regenerate:\n",
    "    concepts_list = df2Graph(df, model='zephyr:latest')\n",
    "    dfg1 = graph2Df(concepts_list)\n",
    "    if not os.path.exists(outputdirectory):\n",
    "        os.makedirs(outputdirectory)\n",
    "    \n",
    "    dfg1.to_csv(outputdirectory/\"graph.csv\", sep=\"|\", index=False)\n",
    "    df.to_csv(outputdirectory/\"chunks.csv\", sep=\"|\", index=False)\n",
    "else:\n",
    "    dfg1 = pd.read_csv(outputdirectory/\"graph.csv\", sep=\"|\")\n",
    "\n",
    "dfg1.replace(\"\", np.nan, inplace=True)\n",
    "dfg1.dropna(subset=[\"node_1\", \"node_2\", 'edge'], inplace=True)\n",
    "dfg1['count'] = 4 \n",
    "## Increasing the weight of the relation to 4. \n",
    "## We will assign the weight of 1 when later the contextual proximity will be calculated.  \n",
    "print(dfg1.shape)\n",
    "dfg1.head()"
   ]
  },
  {
   "cell_type": "markdown",
   "metadata": {},
   "source": [
    "## Calculating contextual proximity"
   ]
  },
  {
   "cell_type": "code",
   "execution_count": 7,
   "metadata": {},
   "outputs": [],
   "source": [
    "def contextual_proximity(df: pd.DataFrame) -> pd.DataFrame:\n",
    "    ## Melt the dataframe into a list of nodes\n",
    "    dfg_long = pd.melt(\n",
    "        df, id_vars=[\"chunk_id\"], value_vars=[\"node_1\", \"node_2\"], value_name=\"node\"\n",
    "    )\n",
    "    dfg_long.drop(columns=[\"variable\"], inplace=True)\n",
    "    # Self join with chunk id as the key will create a link between terms occuring in the same text chunk.\n",
    "    dfg_wide = pd.merge(dfg_long, dfg_long, on=\"chunk_id\", suffixes=(\"_1\", \"_2\"))\n",
    "    # drop self loops\n",
    "    self_loops_drop = dfg_wide[dfg_wide[\"node_1\"] == dfg_wide[\"node_2\"]].index\n",
    "    dfg2 = dfg_wide.drop(index=self_loops_drop).reset_index(drop=True)\n",
    "    ## Group and count edges.\n",
    "    dfg2 = (\n",
    "        dfg2.groupby([\"node_1\", \"node_2\"])\n",
    "        .agg({\"chunk_id\": [\",\".join, \"count\"]})\n",
    "        .reset_index()\n",
    "    )\n",
    "    dfg2.columns = [\"node_1\", \"node_2\", \"chunk_id\", \"count\"]\n",
    "    dfg2.replace(\"\", np.nan, inplace=True)\n",
    "    dfg2.dropna(subset=[\"node_1\", \"node_2\"], inplace=True)\n",
    "    # Drop edges with 1 count\n",
    "    dfg2 = dfg2[dfg2[\"count\"] != 1]\n",
    "    dfg2[\"edge\"] = \"contextual proximity\"\n",
    "    return dfg2\n",
    "\n",
    "\n",
    "dfg2 = contextual_proximity(dfg1)"
   ]
  },
  {
   "cell_type": "markdown",
   "metadata": {},
   "source": [
    "### Merge both the dataframes"
   ]
  },
  {
   "cell_type": "code",
   "execution_count": 8,
   "metadata": {},
   "outputs": [
    {
     "data": {
      "text/html": [
       "<div>\n",
       "<style scoped>\n",
       "    .dataframe tbody tr th:only-of-type {\n",
       "        vertical-align: middle;\n",
       "    }\n",
       "\n",
       "    .dataframe tbody tr th {\n",
       "        vertical-align: top;\n",
       "    }\n",
       "\n",
       "    .dataframe thead th {\n",
       "        text-align: right;\n",
       "    }\n",
       "</style>\n",
       "<table border=\"1\" class=\"dataframe\">\n",
       "  <thead>\n",
       "    <tr style=\"text-align: right;\">\n",
       "      <th></th>\n",
       "      <th>node_1</th>\n",
       "      <th>node_2</th>\n",
       "      <th>chunk_id</th>\n",
       "      <th>edge</th>\n",
       "      <th>count</th>\n",
       "    </tr>\n",
       "  </thead>\n",
       "  <tbody>\n",
       "    <tr>\n",
       "      <th>0</th>\n",
       "      <td>../spring-petclinic/build/generated/aotsources...</td>\n",
       "      <td>cachemeterbinderprovidersconfiguration__beande...</td>\n",
       "      <td>cbe21f64f80046068d46ba916e885e58,cbe21f64f8004...</td>\n",
       "      <td>contextual proximity</td>\n",
       "      <td>3</td>\n",
       "    </tr>\n",
       "    <tr>\n",
       "      <th>1</th>\n",
       "      <td>/</td>\n",
       "      <td>_pr_isie6</td>\n",
       "      <td>178b377b9fad4004929ff5394ca0846a,178b377b9fad4...</td>\n",
       "      <td>is a global function for browser detection in ...</td>\n",
       "      <td>8</td>\n",
       "    </tr>\n",
       "    <tr>\n",
       "      <th>2</th>\n",
       "      <td>/</td>\n",
       "      <td>pr</td>\n",
       "      <td>178b377b9fad4004929ff5394ca0846a,178b377b9fad4...</td>\n",
       "      <td>is an object that contains functions for prett...</td>\n",
       "      <td>12</td>\n",
       "    </tr>\n",
       "    <tr>\n",
       "      <th>3</th>\n",
       "      <td>/</td>\n",
       "      <td>prettyprint</td>\n",
       "      <td>178b377b9fad4004929ff5394ca0846a,178b377b9fad4...</td>\n",
       "      <td>contextual proximity</td>\n",
       "      <td>4</td>\n",
       "    </tr>\n",
       "    <tr>\n",
       "      <th>4</th>\n",
       "      <td>/</td>\n",
       "      <td>prettyprintone</td>\n",
       "      <td>178b377b9fad4004929ff5394ca0846a,178b377b9fad4...</td>\n",
       "      <td>contextual proximity</td>\n",
       "      <td>4</td>\n",
       "    </tr>\n",
       "    <tr>\n",
       "      <th>...</th>\n",
       "      <td>...</td>\n",
       "      <td>...</td>\n",
       "      <td>...</td>\n",
       "      <td>...</td>\n",
       "      <td>...</td>\n",
       "    </tr>\n",
       "    <tr>\n",
       "      <th>1066</th>\n",
       "      <td>welcomecontroller.java</td>\n",
       "      <td>system</td>\n",
       "      <td>06ee23aea9a34b1e973821ef973d1d89,06ee23aea9a34...</td>\n",
       "      <td>contextual proximity</td>\n",
       "      <td>3</td>\n",
       "    </tr>\n",
       "    <tr>\n",
       "      <th>1067</th>\n",
       "      <td>welcomecontroller.java</td>\n",
       "      <td>test</td>\n",
       "      <td>06ee23aea9a34b1e973821ef973d1d89,06ee23aea9a34...</td>\n",
       "      <td>contextual proximity</td>\n",
       "      <td>2</td>\n",
       "    </tr>\n",
       "    <tr>\n",
       "      <th>1068</th>\n",
       "      <td>welcomecontroller.java</td>\n",
       "      <td>vet</td>\n",
       "      <td>06ee23aea9a34b1e973821ef973d1d89,06ee23aea9a34...</td>\n",
       "      <td>contextual proximity</td>\n",
       "      <td>5</td>\n",
       "    </tr>\n",
       "    <tr>\n",
       "      <th>1069</th>\n",
       "      <td>window['pr']</td>\n",
       "      <td>/</td>\n",
       "      <td>178b377b9fad4004929ff5394ca0846a,178b377b9fad4...</td>\n",
       "      <td>is assigned to the PR object, indicating that ...</td>\n",
       "      <td>8</td>\n",
       "    </tr>\n",
       "    <tr>\n",
       "      <th>1070</th>\n",
       "      <td>window['pr']</td>\n",
       "      <td>pr</td>\n",
       "      <td>178b377b9fad4004929ff5394ca0846a,178b377b9fad4...</td>\n",
       "      <td>contextual proximity</td>\n",
       "      <td>2</td>\n",
       "    </tr>\n",
       "  </tbody>\n",
       "</table>\n",
       "<p>1071 rows × 5 columns</p>\n",
       "</div>"
      ],
      "text/plain": [
       "                                                 node_1  \\\n",
       "0     ../spring-petclinic/build/generated/aotsources...   \n",
       "1                                                     /   \n",
       "2                                                     /   \n",
       "3                                                     /   \n",
       "4                                                     /   \n",
       "...                                                 ...   \n",
       "1066                             welcomecontroller.java   \n",
       "1067                             welcomecontroller.java   \n",
       "1068                             welcomecontroller.java   \n",
       "1069                                       window['pr']   \n",
       "1070                                       window['pr']   \n",
       "\n",
       "                                                 node_2  \\\n",
       "0     cachemeterbinderprovidersconfiguration__beande...   \n",
       "1                                             _pr_isie6   \n",
       "2                                                    pr   \n",
       "3                                           prettyprint   \n",
       "4                                        prettyprintone   \n",
       "...                                                 ...   \n",
       "1066                                             system   \n",
       "1067                                               test   \n",
       "1068                                                vet   \n",
       "1069                                                  /   \n",
       "1070                                                 pr   \n",
       "\n",
       "                                               chunk_id  \\\n",
       "0     cbe21f64f80046068d46ba916e885e58,cbe21f64f8004...   \n",
       "1     178b377b9fad4004929ff5394ca0846a,178b377b9fad4...   \n",
       "2     178b377b9fad4004929ff5394ca0846a,178b377b9fad4...   \n",
       "3     178b377b9fad4004929ff5394ca0846a,178b377b9fad4...   \n",
       "4     178b377b9fad4004929ff5394ca0846a,178b377b9fad4...   \n",
       "...                                                 ...   \n",
       "1066  06ee23aea9a34b1e973821ef973d1d89,06ee23aea9a34...   \n",
       "1067  06ee23aea9a34b1e973821ef973d1d89,06ee23aea9a34...   \n",
       "1068  06ee23aea9a34b1e973821ef973d1d89,06ee23aea9a34...   \n",
       "1069  178b377b9fad4004929ff5394ca0846a,178b377b9fad4...   \n",
       "1070  178b377b9fad4004929ff5394ca0846a,178b377b9fad4...   \n",
       "\n",
       "                                                   edge  count  \n",
       "0                                  contextual proximity      3  \n",
       "1     is a global function for browser detection in ...      8  \n",
       "2     is an object that contains functions for prett...     12  \n",
       "3                                  contextual proximity      4  \n",
       "4                                  contextual proximity      4  \n",
       "...                                                 ...    ...  \n",
       "1066                               contextual proximity      3  \n",
       "1067                               contextual proximity      2  \n",
       "1068                               contextual proximity      5  \n",
       "1069  is assigned to the PR object, indicating that ...      8  \n",
       "1070                               contextual proximity      2  \n",
       "\n",
       "[1071 rows x 5 columns]"
      ]
     },
     "execution_count": 8,
     "metadata": {},
     "output_type": "execute_result"
    }
   ],
   "source": [
    "dfg = pd.concat([dfg1, dfg2], axis=0)\n",
    "dfg = (\n",
    "    dfg.groupby([\"node_1\", \"node_2\"])\n",
    "    .agg({\"chunk_id\": \",\".join, \"edge\": ','.join, 'count': 'sum'})\n",
    "    .reset_index()\n",
    ")\n",
    "dfg"
   ]
  },
  {
   "cell_type": "markdown",
   "metadata": {},
   "source": [
    "## Calculate the NetworkX Graph"
   ]
  },
  {
   "cell_type": "code",
   "execution_count": 9,
   "metadata": {},
   "outputs": [
    {
     "data": {
      "text/plain": [
       "(202,)"
      ]
     },
     "execution_count": 9,
     "metadata": {},
     "output_type": "execute_result"
    }
   ],
   "source": [
    "nodes = pd.concat([dfg['node_1'], dfg['node_2']], axis=0).unique()\n",
    "nodes.shape"
   ]
  },
  {
   "cell_type": "code",
   "execution_count": 10,
   "metadata": {},
   "outputs": [],
   "source": [
    "import networkx as nx\n",
    "G = nx.Graph()\n",
    "\n",
    "## Add nodes to the graph\n",
    "for node in nodes:\n",
    "    G.add_node(\n",
    "        str(node)\n",
    "    )\n",
    "\n",
    "## Add edges to the graph\n",
    "for index, row in dfg.iterrows():\n",
    "    G.add_edge(\n",
    "        str(row[\"node_1\"]),\n",
    "        str(row[\"node_2\"]),\n",
    "        title=row[\"edge\"],\n",
    "        weight=row['count']/4\n",
    "    )"
   ]
  },
  {
   "cell_type": "markdown",
   "metadata": {},
   "source": [
    "### Calculate communities for coloring the nodes"
   ]
  },
  {
   "cell_type": "code",
   "execution_count": 11,
   "metadata": {},
   "outputs": [
    {
     "name": "stdout",
     "output_type": "stream",
     "text": [
      "Number of Communities =  17\n",
      "[['../spring-petclinic/build/generated/aotsources/org/springframework/boot/actuate/autoconfigure/metrics/repository/repositorymetricsproperties__beandefinitions.java', 'cachemeterbinderprovidersconfiguration__beandefinitions.java', 'cachemetricsautoconfiguration__beandefinitions.java', 'cachemetricsregistrarconfiguration__beandefinitions.java', 'metricsendpointautoconfiguration__beandefinitions.java', 'metricsproperties__beandefinitions.java', 'repositorymetricsautoconfiguration__beandefinitions.java', 'simplemetricsexportautoconfiguration__beandefinitions.java', 'simpleproperties__beandefinitions.java', 'systemmetricsautoconfiguration__beandefinitions.java'], ['/', '_pr_isie6', 'pr', 'prettyprint', 'prettyprintone', \"window['pr']\"], ['actuate', 'compositemeterregistryautoconfiguration', 'datasourcepoolmetricsautoconfiguration', 'heapdumpwebendpointautoconfiguration', 'integrationmetricsautoconfiguration', 'jvmmetricsautoconfiguration', 'logbackmetricsautoconfiguration', 'logfilewebendpointproperties', 'loggersendpointautoconfiguration', 'metricsaspectsautoconfiguration', 'metricsautoconfiguration', 'observationautoconfiguration', 'observationproperties', 'startuptimemetricslistenerautoconfiguration', 'taskexecutormetricsautoconfiguration', 'threaddumpendpointautoconfiguration', 'tomcatmetricsautoconfiguration'], ['annotationawareaspectjautoproxycreator__beandefinitions', 'auditeventsendpointautoconfiguration__beandefinitions', 'clinicservice', 'clinicservicetests', 'crashcontroller', 'crashcontrollerintegrationtests', 'crashcontrollertests', 'entityutils', 'org/springframework/aop/aspectj/annotation/annotationawareaspectjautoproxycreator', 'org/springframework/boot/actuate/audit/auditeventsendpointautoconfiguration', 'ownercontroller', 'ownercontrollertests', 'petcontroller', 'petcontrollertests', 'pettypeformatter', 'pettypeformattertests', 'vetcontroller', 'vetcontrollertests', 'vettests', 'visitcontroller', 'visitcontrollertests'], ['aopautoconfiguration', 'applicationavailabilityautoconfiguration', 'autoconfigurationpackages', 'cacheautoconfiguration', 'httpexchangesendpointautoconfiguration', 'managementcontextautoconfiguration', 'managementserverproperties', 'mappingsendpointautoconfiguration', 'servletmanagementcontextautoconfiguration'], ['aotsources', 'autoconfiguration', 'availabilityhealthcontributorautoconfiguration', 'beandefinitions', 'beansendpointautoconfiguration', 'build/generated', 'cachesendpointautoconfiguration', 'client', 'conditionsreportendpointautoconfiguration', 'configurationpropertiesautoconfiguration__beandefinitions.java', 'configurationpropertiesreportendpointautoconfiguration', 'configurationpropertiesreportendpointproperties', 'datasourcepoolmetadataprovidersconfiguration__beandefinitions.java', 'datasourceproperties__beandefinitions.java', 'datasourcetransactionmanagerautoconfiguration__beandefinitions.java', 'dispatcherservletautoconfiguration', 'embeddedwebserverfactorycustomizerautoconfiguration', 'endpointautoconfiguration', 'hibernatejpaautoconfiguration__beandefinitions.java', 'hibernatejpaconfiguration__beandefinitions.java', 'httpencodingautoconfiguration', 'jacksonendpointautoconfiguration', 'java file', 'jdbcclientautoconfiguration__beandefinitions.java', 'jdbcproperties__beandefinitions.java', 'jdbctemplateautoconfiguration__beandefinitions.java', 'jparepositoriesautoconfiguration__beandefinitions.java', 'lifecycleautoconfiguration__beandefinitions.java', 'lifecycleproperties__beandefinitions.java', 'messagesourceautoconfiguration__beandefinitions.java', 'multipartautoconfiguration', 'namedparameterjdbctemplateconfiguration__beandefinitions.java', 'org/springframework/boot', 'org/springframework/boot/autoconfigure', 'org/springframework/boot/autoconfigure/cache/cacheproperties__beandefinitions.java', 'org/springframework/boot/autoconfigure/cache/caffeinecacheconfiguration__beandefinitions.java', 'org/springframework/boot/autoconfigure/data/jpa', 'org/springframework/boot/autoconfigure/data/web', 'persistenceexceptiontranslationautoconfiguration__beandefinitions.java', 'propertyplaceholderautoconfiguration__beandefinitions.java', 'restclientautoconfiguration', 'resttemplateautoconfiguration', 'spring-petclinic', 'springdatawebautoconfiguration__beandefinitions.java', 'transaction', 'validation', 'webproperties'], ['autoconfigure', 'boundconfigurationproperties', 'configuration', 'enablewebmvcconfiguration', 'properties', 'servlet', 'servletwebserverfactory', 'web', 'webmvcautoconfiguration', 'webmvcproperties', 'websocketservletautoconfiguration'], ['cacheconfiguration.java', 'crashcontroller.java', 'integrationtests.java', 'java', 'main', 'mysqlintegrationtests.java', 'mysqltestapplication.java', 'org', 'owner', 'petclinic', 'petvalidator.java', 'postgres', 'samples', 'specialty.java', 'spring', 'springframework', 'src', 'system', 'test', 'vet', 'vet.java', 'vetcontroller.java', 'vetrepository.java', 'vets.java', 'visit', 'visitcontroller.java', 'welcomecontroller.java'], ['corsendpointproperties', 'webendpointproperties'], ['datasourceautoconfiguration', 'datasourceconfiguration', 'datasourcejmxconfiguration', 'httpmessageconvertersautoconfiguration', 'jacksonautoconfiguration', 'jacksonhttpmessageconvertersconfiguration', 'jacksonproperties', 'projectinfoautoconfiguration', 'projectinfoproperties', 'springdatawebproperties'], ['datasourcehealthcontributorautoconfiguration', 'datasourcehealthindicatorproperties', 'healthendpointconfiguration', 'healthendpointproperties', 'healthendpointwebextensionconfiguration', 'infocontributorautoconfiguration', 'infocontributorproperties', 'infoendpointautoconfiguration', 'logfilewebendpointautoconfiguration', 'springboot', 'springpetclinic'], ['datasourceinitializationconfiguration__beandefinitions.java', 'hibernateproperties__beandefinitions.java', 'jpabaseconfiguration__beandefinitions.java', 'jpaproperties__beandefinitions.java', 'sqlinitializationautoconfiguration__beandefinitions.java', 'sslautoconfiguration__beandefinitions.java', 'sslproperties__beandefinitions.java', 'taskexecutionautoconfiguration__beandefinitions.java', 'taskexecutionproperties__beandefinitions.java'], ['diskspacehealthcontributorautoconfiguration__beandefinitions.java', 'diskspacehealthindicatorproperties__beandefinitions.java', 'httpclientobservationsautoconfiguration__beandefinitions.java', 'restclientobservationconfiguration__beandefinitions.java', 'resttemplateobservationconfiguration__beandefinitions.java', 'scheduledtasksendpointautoconfiguration__beandefinitions.java', 'webmvcobservationautoconfiguration__beandefinitions.java'], ['environmentendpointautoconfiguration', 'environmentendpointproperties'], ['healthcontributorautoconfiguration', 'healthendpointautoconfiguration'], ['taskexecutorconfigurations__beandefinitions.java', 'taskschedulingautoconfiguration__beandefinitions.java', 'taskschedulingproperties__beandefinitions.java', 'templateengineconfigurations__beandefinitions.java', 'thymeleafautoconfiguration__beandefinitions.java', 'thymeleafproperties__beandefinitions.java', 'transactionautoconfiguration__beandefinitions.java', 'transactionmanagercustomizationautoconfiguration__beandefinitions.java', 'transactionproperties__beandefinitions.java'], ['webendpointautoconfiguration', 'webmvcendpointmanagementcontextconfiguration']]\n"
     ]
    }
   ],
   "source": [
    "communities_generator = nx.community.girvan_newman(G)\n",
    "top_level_communities = next(communities_generator)\n",
    "next_level_communities = next(communities_generator)\n",
    "communities = sorted(map(sorted, next_level_communities))\n",
    "print(\"Number of Communities = \", len(communities))\n",
    "print(communities)"
   ]
  },
  {
   "cell_type": "markdown",
   "metadata": {},
   "source": [
    "### Create a dataframe for community colors"
   ]
  },
  {
   "cell_type": "code",
   "execution_count": 12,
   "metadata": {},
   "outputs": [
    {
     "data": {
      "text/html": [
       "<div>\n",
       "<style scoped>\n",
       "    .dataframe tbody tr th:only-of-type {\n",
       "        vertical-align: middle;\n",
       "    }\n",
       "\n",
       "    .dataframe tbody tr th {\n",
       "        vertical-align: top;\n",
       "    }\n",
       "\n",
       "    .dataframe thead th {\n",
       "        text-align: right;\n",
       "    }\n",
       "</style>\n",
       "<table border=\"1\" class=\"dataframe\">\n",
       "  <thead>\n",
       "    <tr style=\"text-align: right;\">\n",
       "      <th></th>\n",
       "      <th>node</th>\n",
       "      <th>color</th>\n",
       "      <th>group</th>\n",
       "    </tr>\n",
       "  </thead>\n",
       "  <tbody>\n",
       "    <tr>\n",
       "      <th>0</th>\n",
       "      <td>../spring-petclinic/build/generated/aotsources...</td>\n",
       "      <td>#578ddb</td>\n",
       "      <td>1</td>\n",
       "    </tr>\n",
       "    <tr>\n",
       "      <th>1</th>\n",
       "      <td>cachemeterbinderprovidersconfiguration__beande...</td>\n",
       "      <td>#578ddb</td>\n",
       "      <td>1</td>\n",
       "    </tr>\n",
       "    <tr>\n",
       "      <th>2</th>\n",
       "      <td>cachemetricsautoconfiguration__beandefinitions...</td>\n",
       "      <td>#578ddb</td>\n",
       "      <td>1</td>\n",
       "    </tr>\n",
       "    <tr>\n",
       "      <th>3</th>\n",
       "      <td>cachemetricsregistrarconfiguration__beandefini...</td>\n",
       "      <td>#578ddb</td>\n",
       "      <td>1</td>\n",
       "    </tr>\n",
       "    <tr>\n",
       "      <th>4</th>\n",
       "      <td>metricsendpointautoconfiguration__beandefiniti...</td>\n",
       "      <td>#578ddb</td>\n",
       "      <td>1</td>\n",
       "    </tr>\n",
       "    <tr>\n",
       "      <th>...</th>\n",
       "      <td>...</td>\n",
       "      <td>...</td>\n",
       "      <td>...</td>\n",
       "    </tr>\n",
       "    <tr>\n",
       "      <th>197</th>\n",
       "      <td>transactionautoconfiguration__beandefinitions....</td>\n",
       "      <td>#db577e</td>\n",
       "      <td>16</td>\n",
       "    </tr>\n",
       "    <tr>\n",
       "      <th>198</th>\n",
       "      <td>transactionmanagercustomizationautoconfigurati...</td>\n",
       "      <td>#db577e</td>\n",
       "      <td>16</td>\n",
       "    </tr>\n",
       "    <tr>\n",
       "      <th>199</th>\n",
       "      <td>transactionproperties__beandefinitions.java</td>\n",
       "      <td>#db577e</td>\n",
       "      <td>16</td>\n",
       "    </tr>\n",
       "    <tr>\n",
       "      <th>200</th>\n",
       "      <td>webendpointautoconfiguration</td>\n",
       "      <td>#9ddb57</td>\n",
       "      <td>17</td>\n",
       "    </tr>\n",
       "    <tr>\n",
       "      <th>201</th>\n",
       "      <td>webmvcendpointmanagementcontextconfiguration</td>\n",
       "      <td>#9ddb57</td>\n",
       "      <td>17</td>\n",
       "    </tr>\n",
       "  </tbody>\n",
       "</table>\n",
       "<p>202 rows × 3 columns</p>\n",
       "</div>"
      ],
      "text/plain": [
       "                                                  node    color  group\n",
       "0    ../spring-petclinic/build/generated/aotsources...  #578ddb      1\n",
       "1    cachemeterbinderprovidersconfiguration__beande...  #578ddb      1\n",
       "2    cachemetricsautoconfiguration__beandefinitions...  #578ddb      1\n",
       "3    cachemetricsregistrarconfiguration__beandefini...  #578ddb      1\n",
       "4    metricsendpointautoconfiguration__beandefiniti...  #578ddb      1\n",
       "..                                                 ...      ...    ...\n",
       "197  transactionautoconfiguration__beandefinitions....  #db577e     16\n",
       "198  transactionmanagercustomizationautoconfigurati...  #db577e     16\n",
       "199        transactionproperties__beandefinitions.java  #db577e     16\n",
       "200                       webendpointautoconfiguration  #9ddb57     17\n",
       "201       webmvcendpointmanagementcontextconfiguration  #9ddb57     17\n",
       "\n",
       "[202 rows x 3 columns]"
      ]
     },
     "execution_count": 12,
     "metadata": {},
     "output_type": "execute_result"
    }
   ],
   "source": [
    "import seaborn as sns\n",
    "palette = \"hls\"\n",
    "\n",
    "## Now add these colors to communities and make another dataframe\n",
    "def colors2Community(communities) -> pd.DataFrame:\n",
    "    ## Define a color palette\n",
    "    p = sns.color_palette(palette, len(communities)).as_hex()\n",
    "    random.shuffle(p)\n",
    "    rows = []\n",
    "    group = 0\n",
    "    for community in communities:\n",
    "        color = p.pop()\n",
    "        group += 1\n",
    "        for node in community:\n",
    "            rows += [{\"node\": node, \"color\": color, \"group\": group}]\n",
    "    df_colors = pd.DataFrame(rows)\n",
    "    return df_colors\n",
    "\n",
    "\n",
    "colors = colors2Community(communities)\n",
    "colors"
   ]
  },
  {
   "cell_type": "markdown",
   "metadata": {},
   "source": [
    "### Add colors to the graph"
   ]
  },
  {
   "cell_type": "code",
   "execution_count": 13,
   "metadata": {},
   "outputs": [],
   "source": [
    "for index, row in colors.iterrows():\n",
    "    G.nodes[row['node']]['group'] = row['group']\n",
    "    G.nodes[row['node']]['color'] = row['color']\n",
    "    G.nodes[row['node']]['size'] = G.degree[row['node']]"
   ]
  },
  {
   "cell_type": "code",
   "execution_count": 14,
   "metadata": {},
   "outputs": [
    {
     "name": "stdout",
     "output_type": "stream",
     "text": [
      "./docs/index.html\n"
     ]
    }
   ],
   "source": [
    "from pyvis.network import Network\n",
    "\n",
    "graph_output_directory = \"./docs/index.html\"\n",
    "\n",
    "net = Network(\n",
    "    notebook=False,\n",
    "    # bgcolor=\"#1a1a1a\",\n",
    "    cdn_resources=\"remote\",\n",
    "    height=\"900px\",\n",
    "    width=\"100%\",\n",
    "    select_menu=True,\n",
    "    # font_color=\"#cccccc\",\n",
    "    filter_menu=False,\n",
    ")\n",
    "\n",
    "net.from_nx(G)\n",
    "# net.repulsion(node_distance=150, spring_length=400)\n",
    "net.force_atlas_2based(central_gravity=0.015, gravity=-31)\n",
    "# net.barnes_hut(gravity=-18100, central_gravity=5.05, spring_length=380)\n",
    "net.show_buttons(filter_=[\"physics\"])\n",
    "\n",
    "net.show(graph_output_directory, notebook=False)"
   ]
  },
  {
   "cell_type": "code",
   "execution_count": null,
   "metadata": {},
   "outputs": [],
   "source": []
  }
 ],
 "metadata": {
  "kernelspec": {
   "display_name": "Python 3 (ipykernel)",
   "language": "python",
   "name": "python3"
  },
  "language_info": {
   "codemirror_mode": {
    "name": "ipython",
    "version": 3
   },
   "file_extension": ".py",
   "mimetype": "text/x-python",
   "name": "python",
   "nbconvert_exporter": "python",
   "pygments_lexer": "ipython3",
   "version": "3.12.7"
  }
 },
 "nbformat": 4,
 "nbformat_minor": 4
}
